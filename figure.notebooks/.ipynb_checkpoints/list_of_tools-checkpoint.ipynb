{
 "cells": [
  {
   "cell_type": "code",
   "execution_count": null,
   "metadata": {
    "collapsed": true,
    "jupyter": {
     "outputs_hidden": false,
     "source_hidden": false
    },
    "nteract": {
     "transient": {
      "deleting": false
     }
    },
    "outputExpanded": false
   },
   "outputs": [],
   "source": [
    "import pandas as pd\n",
    "import numpy as np"
   ]
  },
  {
   "cell_type": "code",
   "execution_count": null,
   "metadata": {
    "collapsed": true,
    "jupyter": {
     "outputs_hidden": false,
     "source_hidden": false
    },
    "nteract": {
     "transient": {
      "deleting": false
     }
    },
    "outputExpanded": false
   },
   "outputs": [],
   "source": []
  },
  {
   "cell_type": "code",
   "execution_count": null,
   "metadata": {
    "collapsed": true,
    "jupyter": {
     "outputs_hidden": false,
     "source_hidden": false
    },
    "nteract": {
     "transient": {
      "deleting": false
     }
    },
    "outputExpanded": false
   },
   "outputs": [],
   "source": [
    "data=pd.read_csv(\"/Users/ramayyala/github/bioinformatics.software.packaging.solutions/data/list_of_tools.csv\")\n",
    "#pm=pd.read_csv(\"list of tools.csv\")\n",
    "data"
   ]
  },
  {
   "cell_type": "code",
   "execution_count": null,
   "metadata": {
    "collapsed": true,
    "jupyter": {
     "outputs_hidden": false,
     "source_hidden": false
    },
    "nteract": {
     "transient": {
      "deleting": false
     }
    },
    "outputExpanded": false
   },
   "outputs": [],
   "source": []
  },
  {
   "cell_type": "code",
   "execution_count": null,
   "metadata": {
    "collapsed": true,
    "jupyter": {
     "outputs_hidden": false,
     "source_hidden": false
    },
    "nteract": {
     "transient": {
      "deleting": false
     }
    },
    "outputExpanded": false
   },
   "outputs": [],
   "source": [
    "#package_managers\n",
    "conda_forge=data['conda-forge']\n",
    "bioconda=data['bioconda']\n",
    "pip=data['pip']\n",
    "easybuild=data['easybuild']\n",
    "biolinux=data['biolinux']\n",
    "linuxbrew=data['linuxbrew']\n",
    "GNU_guix=data['gnu_guix']\n",
    "apt=data['apt']\n",
    "cran=data['cran']\n",
    "spack=data['spack']\n",
    "yum=data['yum']\n",
    "bioconductor=data['bioconductor']\n",
    "zero_install=data['0install']\n",
    "#omicx\n",
    "omicX=data['omicx']\n",
    "#containers\n",
    "biocontainers=data['biocontainers']\n",
    "app_image=data['app_image']\n",
    "flatpack=data['flatpack']\n",
    "singularity=data['singularity']\n",
    "snappy=data['snappy']\n",
    "vagrant=data['vagrant']"
   ]
  },
  {
   "cell_type": "code",
   "execution_count": null,
   "metadata": {
    "collapsed": true,
    "jupyter": {
     "outputs_hidden": false,
     "source_hidden": false
    },
    "nteract": {
     "transient": {
      "deleting": false
     }
    },
    "outputExpanded": false
   },
   "outputs": [],
   "source": []
  },
  {
   "cell_type": "code",
   "execution_count": null,
   "metadata": {
    "collapsed": true,
    "jupyter": {
     "outputs_hidden": false,
     "source_hidden": false
    },
    "nteract": {
     "transient": {
      "deleting": false
     }
    },
    "outputExpanded": false
   },
   "outputs": [],
   "source": [
    "#drops empty cells\n",
    "bioconda=bioconda.dropna()\n",
    "conda_forge=conda_forge.dropna()\n",
    "easybuild=easybuild.dropna()\n",
    "biolinux=biolinux.dropna()\n",
    "linuxbrew=linuxbrew.dropna()\n",
    "GNU_guix=GNU_guix.dropna()\n",
    "apt=apt.dropna()\n",
    "pip=pip.dropna()\n",
    "cran=cran.dropna()\n",
    "spack=spack.dropna()\n",
    "yum=yum.dropna()\n",
    "bioconductor=bioconductor.dropna()\n",
    "omicX=omicX.dropna()\n",
    "zero_install=zero_install.dropna()\n",
    "biocontainers=biocontainers.dropna()\n",
    "app_image=app_image.dropna()\n",
    "flatpack=flatpack.dropna()\n",
    "singularity=singularity.dropna()\n",
    "snappy=snappy.dropna()\n",
    "vagrant=vagrant.dropna()"
   ]
  },
  {
   "cell_type": "code",
   "execution_count": null,
   "metadata": {
    "collapsed": true,
    "jupyter": {
     "outputs_hidden": false,
     "source_hidden": false
    },
    "nteract": {
     "transient": {
      "deleting": false
     }
    },
    "outputExpanded": false
   },
   "outputs": [],
   "source": []
  },
  {
   "cell_type": "code",
   "execution_count": null,
   "metadata": {
    "collapsed": true,
    "jupyter": {
     "outputs_hidden": false,
     "source_hidden": false
    },
    "nteract": {
     "transient": {
      "deleting": false
     }
    },
    "outputExpanded": false
   },
   "outputs": [],
   "source": [
    "#converted to set to remove any duplicates and allow use of set intersection function to find shared tools\n",
    "bioconda=set(bioconda)\n",
    "conda_forge=set(conda_forge)\n",
    "easybuild=set(easybuild)\n",
    "biolinux=set(biolinux)\n",
    "linuxbrew=set(linuxbrew)\n",
    "GNU_guix=set(GNU_guix)\n",
    "apt=set(apt)\n",
    "pip=set(pip)\n",
    "cran=set(cran)\n",
    "spack=set(spack)\n",
    "yum=set(yum)\n",
    "bioconductor=set(bioconductor)\n",
    "omicX=set(omicX)\n",
    "zero_install=set(zero_install)\n",
    "biocontainers=set(biocontainers)\n",
    "app_image=set(app_image)\n",
    "flatpack=set(flatpack)\n",
    "singularity=set(singularity)\n",
    "snappy=set(snappy)\n",
    "vagrant=set(vagrant)\n",
    "names_list=['bioconda','pip','conda_forge','easybuild','biolinux','linuxbrew','GNU_guix','apt','cran','spack','yum','zero_install','bioconductor']\n",
    "len(names_list)\n",
    "set_list=[bioconda,pip,conda_forge,easybuild,biolinux,linuxbrew,GNU_guix,apt,cran,spack,yum,zero_install,bioconductor]\n",
    "len(set_list)"
   ]
  },
  {
   "cell_type": "code",
   "execution_count": null,
   "metadata": {
    "collapsed": true,
    "jupyter": {
     "outputs_hidden": false,
     "source_hidden": false
    },
    "nteract": {
     "transient": {
      "deleting": false
     }
    },
    "outputExpanded": false
   },
   "outputs": [],
   "source": []
  },
  {
   "cell_type": "code",
   "execution_count": null,
   "metadata": {
    "collapsed": true,
    "jupyter": {
     "outputs_hidden": false,
     "source_hidden": false
    },
    "nteract": {
     "transient": {
      "deleting": false
     }
    },
    "outputExpanded": false
   },
   "outputs": [],
   "source": [
    "rows=[]\n",
    "for i in range(13):\n",
    "    for j in range(13):\n",
    "        rows.append([names_list[i],names_list[j],int(len(set_list[i].intersection(set_list[j])))])\n",
    "        #print(names_list[i],',',names_list[j],':',len(set_list[i].intersection(set_list[j])))\n",
    "rows\n",
    "df = pd.DataFrame(rows, columns=[\"Var1\", \"Var2\",\"value\"])\n",
    "df\n",
    "\n",
    "table=df.pivot(\"Var1\",\"Var2\",\"value\")\n",
    "table.to_excel(r'/Users/ramayyala/github/bioinformatics.software.packaging.solutions/data/table.xlsx',index=True)\n",
    "#removing values that show total amount of tools in a singular package manager as this skews heatmap and isn't really needed\n",
    "df=df.drop(df[df.Var1==df.Var2].index)"
   ]
  },
  {
   "cell_type": "code",
   "execution_count": null,
   "metadata": {
    "collapsed": true,
    "jupyter": {
     "outputs_hidden": false,
     "source_hidden": false
    },
    "nteract": {
     "transient": {
      "deleting": false
     }
    },
    "outputExpanded": false
   },
   "outputs": [],
   "source": []
  },
  {
   "cell_type": "code",
   "execution_count": null,
   "metadata": {
    "collapsed": true,
    "jupyter": {
     "outputs_hidden": false,
     "source_hidden": false
    },
    "nteract": {
     "transient": {
      "deleting": false
     }
    },
    "outputExpanded": false
   },
   "outputs": [],
   "source": [
    "df.value=df.value.astype(int)\n",
    "df.value.max()\n",
    "import seaborn as sns; sns.set()\n",
    "import matplotlib.pyplot as plt\n",
    "table=df.pivot(\"Var1\",\"Var2\",\"value\")\n",
    "table"
   ]
  },
  {
   "cell_type": "code",
   "execution_count": null,
   "metadata": {
    "collapsed": true,
    "jupyter": {
     "outputs_hidden": false,
     "source_hidden": false
    },
    "nteract": {
     "transient": {
      "deleting": false
     }
    },
    "outputExpanded": false
   },
   "outputs": [],
   "source": []
  },
  {
   "cell_type": "code",
   "execution_count": null,
   "metadata": {
    "collapsed": true,
    "jupyter": {
     "outputs_hidden": false,
     "source_hidden": false
    },
    "nteract": {
     "transient": {
      "deleting": false
     }
    },
    "outputExpanded": false
   },
   "outputs": [],
   "source": [
    "sns.set(style=\"white\")\n",
    "ax = sns.heatmap(table,vmin=0, vmax=3196)\n",
    "mask = np.zeros_like(table)\n",
    "mask=mask[0:13]\n",
    "mask[np.triu_indices_from(mask)] = True\n",
    "with sns.axes_style(\"white\"):\n",
    "    f, ax = plt.subplots(figsize=(23,21))\n",
    "    ax=sns.set_context(\"talk\")\n",
    "    ax = sns.heatmap(table, mask=mask, vmax=3196, square=True, annot=True,fmt='.1f')\n",
    "    for text in ax.texts:\n",
    "        text.set_size(14)\n",
    "        if text.get_text() == '0.0':\n",
    "            text.set_size(18)\n",
    "            text.set_weight('bold')\n",
    "    ax=sns.despine()\n",
    "    plt.savefig('/Users/ramayyala/github/bioinformatics.software.packaging.solutions/figure.files/pm_heatmap.png')\n",
    "    plt.show(ax)"
   ]
  },
  {
   "cell_type": "code",
   "execution_count": null,
   "metadata": {
    "collapsed": true,
    "jupyter": {
     "outputs_hidden": false,
     "source_hidden": false
    },
    "nteract": {
     "transient": {
      "deleting": false
     }
    },
    "outputExpanded": false
   },
   "outputs": [],
   "source": []
  },
  {
   "cell_type": "code",
   "execution_count": null,
   "metadata": {
    "collapsed": true,
    "jupyter": {
     "outputs_hidden": false,
     "source_hidden": false
    },
    "nteract": {
     "transient": {
      "deleting": false
     }
    },
    "outputExpanded": false
   },
   "outputs": [],
   "source": [
    "df_bioconda=df[['Var1','value']].copy()\n",
    "df_bioconda=df[0:12]\n",
    "len(bioconda)\n",
    "df_bioconda\n",
    "df_bioconda['value']=(df_bioconda['value']/len(bioconda))*100\n",
    "df_bioconda"
   ]
  },
  {
   "cell_type": "code",
   "execution_count": null,
   "metadata": {
    "collapsed": true,
    "jupyter": {
     "outputs_hidden": false,
     "source_hidden": false
    },
    "nteract": {
     "transient": {
      "deleting": false
     }
    },
    "outputExpanded": false
   },
   "outputs": [],
   "source": []
  },
  {
   "cell_type": "code",
   "execution_count": null,
   "metadata": {
    "collapsed": true,
    "jupyter": {
     "outputs_hidden": false,
     "source_hidden": false
    },
    "nteract": {
     "transient": {
      "deleting": false
     }
    },
    "outputExpanded": false
   },
   "outputs": [],
   "source": [
    "with sns.axes_style(\"white\"):\n",
    "\n",
    "    g=sns.set_context(\"talk\")\n",
    "    g = sns.catplot(x=\"Var2\", y=\"value\",data=df_bioconda, aspect=3.5,kind='bar',capsize=.1,errwidth=3)\n",
    "    g.set(xlabel='Package Managers', ylabel='% of Tools Shared with Bioconda')\n",
    "    g=sns.despine()\n",
    "    plt.savefig('/Users/ramayyala/github/bioinformatics.software.packaging.solutions/figure.files/Bioconda_pm.png')\n",
    "    plt.show(g)"
   ]
  },
  {
   "cell_type": "code",
   "execution_count": null,
   "metadata": {
    "collapsed": true,
    "jupyter": {
     "outputs_hidden": false,
     "source_hidden": false
    },
    "nteract": {
     "transient": {
      "deleting": false
     }
    },
    "outputExpanded": false
   },
   "outputs": [],
   "source": []
  },
  {
   "cell_type": "code",
   "execution_count": null,
   "metadata": {
    "collapsed": true,
    "jupyter": {
     "outputs_hidden": false,
     "source_hidden": false
    },
    "nteract": {
     "transient": {
      "deleting": false
     }
    },
    "outputExpanded": false
   },
   "outputs": [],
   "source": [
    "names_list=['omicX','bioconda','pip','conda_forge','easybuild','biolinux','linuxbrew','GNU_guix','apt','cran','spack','yum','zero_install','bioconductor']\n",
    "len(names_list)\n",
    "set_list=[omicX,bioconda,pip,conda_forge,easybuild,biolinux,linuxbrew,GNU_guix,apt,cran,spack,yum,zero_install,bioconductor]\n",
    "len(set_list)\n",
    "rows=[]\n",
    "for i in range(14):\n",
    "    rows.append([names_list[0],names_list[i],int(len(set_list[0].intersection(set_list[i])))])\n",
    "        #print(names_list[i],',',names_list[j],':',len(set_list[i].intersection(set_list[j])))\n",
    "rows\n",
    "df = pd.DataFrame(rows, columns=[\"Var1\", \"Var2\",\"value\"])\n",
    "df\n",
    "df['value']=(df['value']/len(omicX))*100\n",
    "df\n",
    "df=df.drop(df[df.value==100].index)\n",
    "df"
   ]
  },
  {
   "cell_type": "code",
   "execution_count": null,
   "metadata": {
    "collapsed": true,
    "jupyter": {
     "outputs_hidden": false,
     "source_hidden": false
    },
    "nteract": {
     "transient": {
      "deleting": false
     }
    },
    "outputExpanded": false
   },
   "outputs": [],
   "source": []
  },
  {
   "cell_type": "code",
   "execution_count": null,
   "metadata": {
    "collapsed": true,
    "jupyter": {
     "outputs_hidden": false,
     "source_hidden": false
    },
    "nteract": {
     "transient": {
      "deleting": false
     }
    },
    "outputExpanded": false
   },
   "outputs": [],
   "source": [
    "with sns.axes_style(\"white\"):\n",
    "\n",
    "    g=sns.set_context(\"talk\")\n",
    "    g = sns.catplot(x=\"Var2\", y=\"value\",data=df, aspect=5,kind='bar',capsize=.1,errwidth=3)\n",
    "    g.set(xlabel='Package Managers', ylabel='% of Tools Shared with omicX')\n",
    "    g=sns.despine()\n",
    "    plt.savefig('/Users/ramayyala/github/bioinformatics.software.packaging.solutions/figure.files/omicX_pm.png')\n",
    "    plt.show(g)"
   ]
  },
  {
   "cell_type": "code",
   "execution_count": null,
   "metadata": {
    "collapsed": true,
    "jupyter": {
     "outputs_hidden": false,
     "source_hidden": false
    },
    "nteract": {
     "transient": {
      "deleting": false
     }
    },
    "outputExpanded": false
   },
   "outputs": [],
   "source": []
  },
  {
   "cell_type": "code",
   "execution_count": null,
   "metadata": {
    "collapsed": true,
    "jupyter": {
     "outputs_hidden": false,
     "source_hidden": false
    },
    "nteract": {
     "transient": {
      "deleting": false
     }
    },
    "outputExpanded": false
   },
   "outputs": [],
   "source": [
    "from matplotlib_venn import venn3\n",
    "from matplotlib_venn import venn2\n",
    "from matplotlib_venn import venn3_unweighted\n",
    "with sns.axes_style(\"white\"):\n",
    "    f, g = plt.subplots(figsize=(10,10))\n",
    "    g=sns.set_context(\"talk\")\n",
    "    g = venn3_unweighted([omicX,bioconda,bioconductor], set_labels = ('omicX', 'bioconda','bioconductor'),alpha =.7)\n",
    "    #lbl = g.get_label_by_id(\"C\")\n",
    "    #x, y = lbl.get_position()\n",
    "    #lbl.set_position((x+.5, y+.05))\n",
    "    g=sns.despine()\n",
    "    plt.savefig('/Users/ramayyala/github/bioinformatics.software.packaging.solutions/figure.files/omicX_bioconda_bioconductor.png')\n",
    "    plt.show(g)"
   ]
  },
  {
   "cell_type": "code",
   "execution_count": null,
   "metadata": {
    "collapsed": true,
    "jupyter": {
     "outputs_hidden": false,
     "source_hidden": false
    },
    "nteract": {
     "transient": {
      "deleting": false
     }
    },
    "outputExpanded": false
   },
   "outputs": [],
   "source": []
  },
  {
   "cell_type": "code",
   "execution_count": null,
   "metadata": {
    "collapsed": true,
    "jupyter": {
     "outputs_hidden": false,
     "source_hidden": false
    },
    "nteract": {
     "transient": {
      "deleting": false
     }
    },
    "outputExpanded": false
   },
   "outputs": [],
   "source": [
    "type(bioconda)\n",
    "type(omicX)\n",
    "type(bioconductor)\n",
    "bio_tools=bioconda.union(omicX,bioconductor)\n",
    "names_list=['bio_tools','pip','conda_forge','easybuild','biolinux','linuxbrew','GNU_guix','apt','cran','spack','yum','zero_install']\n",
    "len(names_list)\n",
    "set_list=[bio_tools,pip,conda_forge,easybuild,biolinux,linuxbrew,GNU_guix,apt,cran,spack,yum,zero_install]\n",
    "len(set_list)\n",
    "rows=[]\n",
    "for i in range(12):\n",
    "    rows.append([names_list[0],names_list[i],int(len(set_list[0].intersection(set_list[i])))])\n",
    "        #print(names_list[i],',',names_list[j],':',len(set_list[i].intersection(set_list[j])))\n",
    "rows\n",
    "df = pd.DataFrame(rows, columns=[\"Var1\", \"Var2\",\"value\"])\n",
    "df\n",
    "df['value']=(df['value']/len(bio_tools))*100\n",
    "df=df.drop(df[df.value==100].index)\n",
    "df\n",
    "with sns.axes_style(\"white\"):\n",
    "\n",
    "    g=sns.set_context(\"talk\")\n",
    "    g = sns.catplot(x=\"Var2\", y=\"value\",data=df, aspect=5,kind='bar',capsize=.1,errwidth=3)\n",
    "    g.set(xlabel='Package Managers', ylabel='% of Tools Shared with Bioinformatics Tools')\n",
    "    g=sns.despine()\n",
    "    plt.savefig('/Users/ramayyala/github/bioinformatics.software.packaging.solutions/figure.files/Biotools_pm.png')\n",
    "    plt.show(g)\n",
    "    "
   ]
  }
 ],
 "metadata": {
  "kernelspec": {
   "display_name": "Python 3",
   "language": "python",
   "name": "python3"
  },
  "language_info": {
   "codemirror_mode": {
    "name": "ipython",
    "version": 3
   },
   "file_extension": ".py",
   "mimetype": "text/x-python",
   "name": "python",
   "nbconvert_exporter": "python",
   "pygments_lexer": "ipython3",
   "version": "3.8.5"
  }
 },
 "nbformat": 4,
 "nbformat_minor": 1
}
