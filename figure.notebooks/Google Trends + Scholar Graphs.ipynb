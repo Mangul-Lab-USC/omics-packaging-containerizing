{
 "cells": [
  {
   "cell_type": "code",
   "execution_count": 1,
   "metadata": {},
   "outputs": [],
   "source": [
    "import scipy as sp, numpy as np\n",
    "import matplotlib.pyplot as plt\n",
    "import seaborn as sns\n",
    "from matplotlib.pyplot import figure\n",
    "import pandas as pd"
   ]
  },
  {
   "cell_type": "code",
   "execution_count": 3,
   "metadata": {},
   "outputs": [
    {
     "data": {
      "text/html": [
       "<div>\n",
       "<style scoped>\n",
       "    .dataframe tbody tr th:only-of-type {\n",
       "        vertical-align: middle;\n",
       "    }\n",
       "\n",
       "    .dataframe tbody tr th {\n",
       "        vertical-align: top;\n",
       "    }\n",
       "\n",
       "    .dataframe thead th {\n",
       "        text-align: right;\n",
       "    }\n",
       "</style>\n",
       "<table border=\"1\" class=\"dataframe\">\n",
       "  <thead>\n",
       "    <tr style=\"text-align: right;\">\n",
       "      <th></th>\n",
       "      <th>Name</th>\n",
       "      <th># Citations (major publications only)</th>\n",
       "      <th>Google Trends AVG</th>\n",
       "    </tr>\n",
       "  </thead>\n",
       "  <tbody>\n",
       "    <tr>\n",
       "      <th>0</th>\n",
       "      <td>Bioconda</td>\n",
       "      <td>105</td>\n",
       "      <td>51</td>\n",
       "    </tr>\n",
       "    <tr>\n",
       "      <th>1</th>\n",
       "      <td>Biolinux</td>\n",
       "      <td>156</td>\n",
       "      <td>0</td>\n",
       "    </tr>\n",
       "    <tr>\n",
       "      <th>2</th>\n",
       "      <td>GNU Guix</td>\n",
       "      <td>12</td>\n",
       "      <td>1</td>\n",
       "    </tr>\n",
       "  </tbody>\n",
       "</table>\n",
       "</div>"
      ],
      "text/plain": [
       "       Name  # Citations (major publications only)  Google Trends AVG\n",
       "0  Bioconda                                    105                 51\n",
       "1  Biolinux                                    156                  0\n",
       "2  GNU Guix                                     12                  1"
      ]
     },
     "execution_count": 3,
     "metadata": {},
     "output_type": "execute_result"
    }
   ],
   "source": [
    "data1 = pd.read_csv(\"../data/citations-vs-trends.csv\")\n",
    "data1"
   ]
  },
  {
   "cell_type": "code",
   "execution_count": 4,
   "metadata": {},
   "outputs": [
    {
     "name": "stderr",
     "output_type": "stream",
     "text": [
      "D:\\Program Files\\anaconda3\\lib\\site-packages\\seaborn\\_decorators.py:36: FutureWarning: Pass the following variables as keyword args: x, y. From version 0.12, the only valid positional argument will be `data`, and passing other arguments without an explicit keyword will result in an error or misinterpretation.\n",
      "  warnings.warn(\n"
     ]
    },
    {
     "data": {
      "image/png": "[encoded data removed]",
      "text/plain": [
       "<Figure size 432x288 with 1 Axes>"
      ]
     },
     "metadata": {
      "needs_background": "light"
     },
     "output_type": "display_data"
    }
   ],
   "source": [
    "xaxis = data1.iloc[:,1].values\n",
    "yaxis = data1.iloc[:,2].values\n",
    "\n",
    "ax = sns.scatterplot(xaxis,yaxis, marker='D', color='black', s = 75);\n",
    "plt.xlabel(\"# Citations (major publications only)\");\n",
    "plt.ylabel(\"Google Trends average score\");\n",
    "\n",
    "labels = data1.iloc[:,0].values\n",
    "for i in range(len(labels)):\n",
    "    plt.annotate(labels[i],(xaxis[i]+3, yaxis[i]))\n",
    "\n",
    "font = {'size'   : 13,\n",
    "       'family' : 'monospace'}\n",
    "plt.rc('font', **font)\n",
    "sns.despine()\n",
    "\n",
    "figure1 = ax.get_figure()\n",
    "figure1.savefig('citations-vs-trends.png', dpi = 1000, bbox_inches = 'tight')"
   ]
  },
  {
   "cell_type": "code",
   "execution_count": 7,
   "metadata": {},
   "outputs": [
    {
     "data": {
      "text/html": [
       "<div>\n",
       "<style scoped>\n",
       "    .dataframe tbody tr th:only-of-type {\n",
       "        vertical-align: middle;\n",
       "    }\n",
       "\n",
       "    .dataframe tbody tr th {\n",
       "        vertical-align: top;\n",
       "    }\n",
       "\n",
       "    .dataframe thead th {\n",
       "        text-align: right;\n",
       "    }\n",
       "</style>\n",
       "<table border=\"1\" class=\"dataframe\">\n",
       "  <thead>\n",
       "    <tr style=\"text-align: right;\">\n",
       "      <th></th>\n",
       "      <th>Name</th>\n",
       "      <th>Google Scholar Results</th>\n",
       "      <th>Citations</th>\n",
       "      <th>Trends</th>\n",
       "    </tr>\n",
       "  </thead>\n",
       "  <tbody>\n",
       "    <tr>\n",
       "      <th>0</th>\n",
       "      <td>Bioconda</td>\n",
       "      <td>335</td>\n",
       "      <td>105</td>\n",
       "      <td>4.344828</td>\n",
       "    </tr>\n",
       "    <tr>\n",
       "      <th>1</th>\n",
       "      <td>Biolinux</td>\n",
       "      <td>738</td>\n",
       "      <td>156</td>\n",
       "      <td>0.000000</td>\n",
       "    </tr>\n",
       "    <tr>\n",
       "      <th>2</th>\n",
       "      <td>Easybuild</td>\n",
       "      <td>750</td>\n",
       "      <td>22</td>\n",
       "      <td>0.000000</td>\n",
       "    </tr>\n",
       "    <tr>\n",
       "      <th>3</th>\n",
       "      <td>GNU Guix</td>\n",
       "      <td>109</td>\n",
       "      <td>12</td>\n",
       "      <td>0.000000</td>\n",
       "    </tr>\n",
       "    <tr>\n",
       "      <th>4</th>\n",
       "      <td>Spack (spack package)</td>\n",
       "      <td>1290</td>\n",
       "      <td>49</td>\n",
       "      <td>0.000000</td>\n",
       "    </tr>\n",
       "    <tr>\n",
       "      <th>5</th>\n",
       "      <td>linuxbrew</td>\n",
       "      <td>64</td>\n",
       "      <td>7</td>\n",
       "      <td>0.000000</td>\n",
       "    </tr>\n",
       "    <tr>\n",
       "      <th>6</th>\n",
       "      <td>Vagrant (Vagrant vm)</td>\n",
       "      <td>2910</td>\n",
       "      <td>0</td>\n",
       "      <td>8.375479</td>\n",
       "    </tr>\n",
       "    <tr>\n",
       "      <th>7</th>\n",
       "      <td>Docker</td>\n",
       "      <td>0</td>\n",
       "      <td>0</td>\n",
       "      <td>58.375479</td>\n",
       "    </tr>\n",
       "    <tr>\n",
       "      <th>8</th>\n",
       "      <td>Singularity</td>\n",
       "      <td>0</td>\n",
       "      <td>0</td>\n",
       "      <td>0.000000</td>\n",
       "    </tr>\n",
       "    <tr>\n",
       "      <th>9</th>\n",
       "      <td>pip</td>\n",
       "      <td>0</td>\n",
       "      <td>0</td>\n",
       "      <td>14.053640</td>\n",
       "    </tr>\n",
       "    <tr>\n",
       "      <th>10</th>\n",
       "      <td>APT</td>\n",
       "      <td>0</td>\n",
       "      <td>0</td>\n",
       "      <td>12.592486</td>\n",
       "    </tr>\n",
       "    <tr>\n",
       "      <th>11</th>\n",
       "      <td>yum</td>\n",
       "      <td>0</td>\n",
       "      <td>0</td>\n",
       "      <td>9.891567</td>\n",
       "    </tr>\n",
       "    <tr>\n",
       "      <th>12</th>\n",
       "      <td>CRAN</td>\n",
       "      <td>0</td>\n",
       "      <td>0</td>\n",
       "      <td>0.000000</td>\n",
       "    </tr>\n",
       "  </tbody>\n",
       "</table>\n",
       "</div>"
      ],
      "text/plain": [
       "                     Name  Google Scholar Results  Citations     Trends\n",
       "0                Bioconda                     335        105   4.344828\n",
       "1                Biolinux                     738        156   0.000000\n",
       "2               Easybuild                     750         22   0.000000\n",
       "3                GNU Guix                     109         12   0.000000\n",
       "4   Spack (spack package)                    1290         49   0.000000\n",
       "5               linuxbrew                      64          7   0.000000\n",
       "6    Vagrant (Vagrant vm)                    2910          0   8.375479\n",
       "7                  Docker                       0          0  58.375479\n",
       "8             Singularity                       0          0   0.000000\n",
       "9                     pip                       0          0  14.053640\n",
       "10                    APT                       0          0  12.592486\n",
       "11                    yum                       0          0   9.891567\n",
       "12                   CRAN                       0          0   0.000000"
      ]
     },
     "execution_count": 7,
     "metadata": {},
     "output_type": "execute_result"
    }
   ],
   "source": [
    "data2 = pd.read_csv(\"../data/scholar-results-vs-citations.csv\")\n",
    "data2"
   ]
  },
  {
   "cell_type": "code",
   "execution_count": 8,
   "metadata": {},
   "outputs": [
    {
     "name": "stderr",
     "output_type": "stream",
     "text": [
      "D:\\Program Files\\anaconda3\\lib\\site-packages\\seaborn\\_decorators.py:36: FutureWarning: Pass the following variables as keyword args: x, y. From version 0.12, the only valid positional argument will be `data`, and passing other arguments without an explicit keyword will result in an error or misinterpretation.\n",
      "  warnings.warn(\n"
     ]
    },
    {
     "data": {
      "image/png": "[encoded data removed]",
      "text/plain": [
       "<Figure size 432x288 with 1 Axes>"
      ]
     },
     "metadata": {
      "needs_background": "light"
     },
     "output_type": "display_data"
    }
   ],
   "source": [
    "xaxis2 = data2.iloc[:,1].values\n",
    "yaxis2 = data2.iloc[:,2].values\n",
    "\n",
    "ax = sns.scatterplot(xaxis2,yaxis2, marker='D', color='black', s = 75);\n",
    "plt.ylabel(\"# Citations (major publications only)\");\n",
    "plt.xlabel(\" # Google Scholar Results\");\n",
    "\n",
    "labels2 = data2.iloc[:,0].values\n",
    "for i in range(len(labels2)):\n",
    "    plt.annotate(labels2[i],(xaxis2[i]+3, yaxis2[i]+4))\n",
    "\n",
    "font = {'size'   : 13,\n",
    "       'family' : 'monospace'}\n",
    "\n",
    "plt.rc('font', **font)\n",
    "sns.despine()\n",
    "    \n",
    "figure1 = ax.get_figure()\n",
    "figure1.savefig('scholar-vs-citations.png', dpi = 1000, bbox_inches = 'tight')"
   ]
  },
  {
   "cell_type": "code",
   "execution_count": 9,
   "metadata": {},
   "outputs": [
    {
     "data": {
      "text/html": [
       "<div>\n",
       "<style scoped>\n",
       "    .dataframe tbody tr th:only-of-type {\n",
       "        vertical-align: middle;\n",
       "    }\n",
       "\n",
       "    .dataframe tbody tr th {\n",
       "        vertical-align: top;\n",
       "    }\n",
       "\n",
       "    .dataframe thead th {\n",
       "        text-align: right;\n",
       "    }\n",
       "</style>\n",
       "<table border=\"1\" class=\"dataframe\">\n",
       "  <thead>\n",
       "    <tr style=\"text-align: right;\">\n",
       "      <th></th>\n",
       "      <th>Name</th>\n",
       "      <th>Google Scholar Results</th>\n",
       "      <th>Google trends</th>\n",
       "    </tr>\n",
       "  </thead>\n",
       "  <tbody>\n",
       "    <tr>\n",
       "      <th>0</th>\n",
       "      <td>Bioconda</td>\n",
       "      <td>335</td>\n",
       "      <td>30.310410</td>\n",
       "    </tr>\n",
       "    <tr>\n",
       "      <th>1</th>\n",
       "      <td>Vagrant (Vagrant vm)</td>\n",
       "      <td>2910</td>\n",
       "      <td>58.739460</td>\n",
       "    </tr>\n",
       "    <tr>\n",
       "      <th>2</th>\n",
       "      <td>Biolinux</td>\n",
       "      <td>738</td>\n",
       "      <td>0.885057</td>\n",
       "    </tr>\n",
       "    <tr>\n",
       "      <th>3</th>\n",
       "      <td>GNU Guix</td>\n",
       "      <td>109</td>\n",
       "      <td>133.260200</td>\n",
       "    </tr>\n",
       "  </tbody>\n",
       "</table>\n",
       "</div>"
      ],
      "text/plain": [
       "                   Name  Google Scholar Results  Google trends\n",
       "0              Bioconda                     335      30.310410\n",
       "1  Vagrant (Vagrant vm)                    2910      58.739460\n",
       "2              Biolinux                     738       0.885057\n",
       "3              GNU Guix                     109     133.260200"
      ]
     },
     "execution_count": 9,
     "metadata": {},
     "output_type": "execute_result"
    }
   ],
   "source": [
    "data3 = pd.read_csv(\"../data/scholar-results-vs-trends.csv\")\n",
    "data3"
   ]
  },
  {
   "cell_type": "code",
   "execution_count": 10,
   "metadata": {},
   "outputs": [
    {
     "name": "stdout",
     "output_type": "stream",
     "text": [
      "[ 335 2910  738  109]\n",
      "[ 30.31041   58.73946    0.885057 133.2602  ]\n"
     ]
    },
    {
     "data": {
      "image/png": "[encoded data removed]",
      "text/plain": [
       "<Figure size 432x288 with 1 Axes>"
      ]
     },
     "metadata": {
      "needs_background": "light"
     },
     "output_type": "display_data"
    }
   ],
   "source": [
    "xaxis3 = data3.iloc[:,1].values\n",
    "yaxis3 = data3.iloc[:,2].values\n",
    "print(xaxis3)\n",
    "print(yaxis3)\n",
    "\n",
    "ax = plt.scatter(xaxis3,yaxis3, marker='D', color='black', s = 75);\n",
    "plt.ylabel(\"Google Trends Average\");\n",
    "plt.xlabel(\" # Google Scholar Results\");\n",
    "\n",
    "labels3 = data3.iloc[:,0].values\n",
    "for i in range(len(labels3)):\n",
    "    plt.annotate(labels3[i],(xaxis3[i]+3, yaxis3[i]+4))\n",
    "\n",
    "font = {'size'   : 13,\n",
    "       'family' : 'monospace'}\n",
    "\n",
    "plt.rc('font', **font)\n",
    "sns.despine()\n",
    "\n",
    "figure1 = ax.get_figure()\n",
    "figure1.savefig('scholar-vs-trends.png', dpi = 1000, bbox_inches = 'tight')"
   ]
  },
  {
   "cell_type": "code",
   "execution_count": null,
   "metadata": {},
   "outputs": [],
   "source": []
  }
 ],
 "metadata": {
  "kernelspec": {
   "display_name": "Python 3",
   "language": "python",
   "name": "python3"
  },
  "language_info": {
   "codemirror_mode": {
    "name": "ipython",
    "version": 3
   },
   "file_extension": ".py",
   "mimetype": "text/x-python",
   "name": "python",
   "nbconvert_exporter": "python",
   "pygments_lexer": "ipython3",
   "version": "3.8.5"
  }
 },
 "nbformat": 4,
 "nbformat_minor": 2
}
